{
 "cells": [
  {
   "cell_type": "markdown",
   "metadata": {},
   "source": [
    "\n",
    "\n",
    "-------\n",
    "# Panoply \n",
    "**Version: 4.4.3** \n",
    "\n",
    "\n",
    "\n",
    "### In this notebook:\n",
    "\n",
    "How to use NASA's data viewer [Panoply](http://www.giss.nasa.gov/tools/panoply/) to view file contents and metadata information: \n",
    "\n",
    "- <a href='#part0'> Launching Panoply on the VDI</a>\n",
    "\n",
    "\n",
    "- <a href='#part1'> Working with local files</a>\n",
    "    - <a href='#part1a'> Opening a dataset</a>\n",
    "    - <a href='#part1b'> Plotting data</a>\n",
    "    - <a href='#part1c'> Opening additional datasets</a>\n",
    "    - <a href='#part1d'> Plotting combined data</a>\n",
    " \n",
    " \n",
    "- <a href='#part2'> Working with remote files</a>\n",
    "    - <a href='#part2a'> Opening a remote dataset</a>\n",
    "    - <a href='#part2b'> Browsing a remote data collection</a>\n",
    "\n",
    "\n",
    "\n",
    "#### The following material uses Geoscience Australia's Landsat 8 and CSIRO's eReefs Data Collections, which are available under the Create Commons License 4.0. For more information on the collection and licensing, please click [here](http://geonetwork.nci.org.au/geonetwork/srv/eng/catalog.search#/metadata/f6600_8228_7170_1486) (Landsat) or [here](https://geonetwork.nci.org.au/geonetwork/srv/eng/catalog.search#/metadata/f8695_6401_6115_6704) (eReefs). \n",
    "\n",
    "---------\n",
    "\n",
    "<br>"
   ]
  },
  {
   "cell_type": "markdown",
   "metadata": {},
   "source": [
    "<a id='part0'></a>\n",
    "# Launching Panoply on the VDI"
   ]
  },
  {
   "cell_type": "markdown",
   "metadata": {},
   "source": [
    "### The easiest way to launch Panoply is from the \"Applications\" menu under the \"Science\". \n",
    "\n",
    "<img src=\"./images/panoply0.png\" width=100%>\n",
    "\n",
    "\n",
    "\n",
    "<br>\n",
    "<div class=\"alert alert-warning\">\n",
    "<b>NOTE:</b> Panoply can also be launched from command line using \"module load\". Make sure the '-multi' option when loading the program this way.\n",
    "<br>\n",
    "</div>\n",
    "\n",
    "#### Command line usage\n",
    "\n",
    "> `$ module load panoply/4.6.1`\n",
    "\n",
    "> `$ panoply.sh -multi &`"
   ]
  },
  {
   "cell_type": "markdown",
   "metadata": {},
   "source": [
    "<a id='part1'></a>\n",
    "# Working with local files"
   ]
  },
  {
   "cell_type": "markdown",
   "metadata": {},
   "source": [
    "<a id='part1a'></a>\n",
    "## Opening a dataset\n",
    "\n",
    "### After launching Panoply, an `Open` window will appear.\n",
    "If you already know the full path of your file, you can enter it directly. In this example, we will use inspect some data from the eReefs Data Collection: \n",
    "\n",
    "> /g/data1/fx3/gbr4_2.0/gbr4_simple_2016-10.nc\n",
    "\n",
    "<img src=\"./images/panoply1.png\" width=50%>\n",
    "\n",
    "### Select the `Open` button and a list of the file contents will appear. \n",
    "\n",
    "#### When selecting the filename from within the `Datasets` window, the full text representation of the file structure and metadata contents will be visable from the right-hand panel. \n",
    "\n",
    "This shows information about the size, number, and charateristics of both the dimensions and variables within the file. At the bottom of this list, a section called \"global attributes\" will also contain metadata describing any additional information about the file contents. \n",
    "\n",
    "<img src=\"./images/panoply2.png\" width=100%>"
   ]
  },
  {
   "cell_type": "markdown",
   "metadata": {},
   "source": [
    "<a id='partb'></a>\n",
    "## Plotting "
   ]
  },
  {
   "cell_type": "markdown",
   "metadata": {},
   "source": [
    "### To plot data, select the variable you would like to view.  \n",
    "In this example, let's look at the variable **\"temp\"**. \n",
    "\n",
    "### Next, click the `Create Plot` option (near the File menu). \n",
    "\n",
    "### Select `\"Create georeferenced\"` and then **Create**. \n",
    "\n",
    "<img src=\"./images/panoply3.png\" width=100%>\n",
    "\n",
    "\n",
    "### A new window will open and display the plot. \n",
    "Use the shortcuts below to zoom in/out of the area of interest. \n",
    "\n",
    "\n",
    "| Keyboard   |  Zoom Shortcut |                         \n",
    "|--------- |---------|\n",
    "| Mac        | Ctrl + Mouse Click (zoom in)|\n",
    "|            | Ctrl + Option + Mouse Click (zoom out) |        \n",
    "| PC         | Ctrl + Mouse Click (zoom in)|\n",
    "|            | Ctrl + Alt + Mouse Click (zoom out) |   \n",
    "\n",
    "<img src=\"./images/panoply4.png\" width=100%>\n",
    "\n",
    "\n",
    "### Next, let's adjust the depth-level we are viewing. Depth, as well as time, can be changed from within the `Array(s)` tab. \n",
    "In this case of this dataset, the index location \"1\" corresponds to the deepest part of the model. Adjust the value to `47` (which is data just above the ocean surface). \n",
    "\n",
    "<img src=\"./images/panoply5.png\" width=100%>\n",
    "\n",
    "<img src=\"./images/panoply6.png\" width=100%>\n",
    "\n",
    "### To adjust the colour scale, navigate to the `Scale` tab. \n",
    "Enter the min/max range manually or select the **Fit to Data** option. \n",
    "\n",
    "<img src=\"./images/panoply7.png\" width=100%>\n",
    "\n",
    "### Panoply has many additional plotting options. \n",
    "Try adding some contours for example: \n",
    "\n",
    "<img src=\"./images/panoply8.png\" width=100%>"
   ]
  },
  {
   "cell_type": "markdown",
   "metadata": {},
   "source": [
    "<a id='part1c'></a>\n",
    "## Adding additional files"
   ]
  },
  {
   "cell_type": "markdown",
   "metadata": {},
   "source": [
    "### To open and view more than one file, navigate to the `File` menu and select `Open`. \n",
    "\n",
    "<img src=\"./images/panoply9.png\" width=100%>\n",
    "\n",
    "### Let's open a similar eReefs file from a different year:\n",
    "\n",
    "> /g/data1/fx3/gbr4_2.0/gbr4_simple_2010-10.nc\n",
    "\n",
    "<img src=\"./images/panoply10.png\" width=100%>\n",
    "\n",
    "### After opening, you should now see the new file appear in the `Datasets` window along with the previous file. \n",
    "\n",
    "<img src=\"./images/panoply11.png\" width=100%>"
   ]
  },
  {
   "cell_type": "markdown",
   "metadata": {},
   "source": [
    "<a id='part1d'></a>\n",
    "## Plotting combined data"
   ]
  },
  {
   "cell_type": "markdown",
   "metadata": {},
   "source": [
    "### The `Combine Plot` option can be used to plot multiple variables within the same plot. \n",
    "\n",
    "#### Begin by using the `Create Plot` to again plot the `temp` variable from the 2016 file (as above). \n",
    "\n",
    "#### Next: \n",
    "1. Select the `temp` variable from the 2010 file \n",
    "2. Click the `Combine Plot` option (up near the top menu).\n",
    "3. Select the existing plot you wish to add the new variable to and click `Combine`.  \n",
    "\n",
    "<img src=\"./images/panoply12.png\" width=100%>\n",
    "\n",
    "#### The existing plot window should update and now display information on 2 arrays. \n",
    "\n",
    "<img src=\"./images/panoply13.png\" width=100%>\n",
    "\n",
    "\n",
    "#### Use the `Plot` options to select how to view the combined data. E.g., plot an average, difference, sum, etc. \n",
    "\n",
    "**Note:** Check that the depth and time slices are the same for both datasets. \n",
    "\n",
    "<img src=\"./images/panoply14.png\" width=100%>"
   ]
  },
  {
   "cell_type": "markdown",
   "metadata": {},
   "source": [
    "<br>\n",
    "<br>\n",
    "<br>\n",
    "<a id='part2'></a>\n",
    "# Working with remote data through NCI's THREDDS Data Server"
   ]
  },
  {
   "cell_type": "markdown",
   "metadata": {},
   "source": [
    "<a id='part2a'></a>\n",
    "## Opening a remote dataset\n",
    "\n",
    "### Start by navigating to the THREDDS dataset catalogue page and selecting the `OPeNDAP` access method. \n",
    "\n",
    "> http://dapds00.nci.org.au/thredds/catalog/ub8/au/FractCov/BS/catalog.html?dataset=ub8-au/FractCov/BS/FractCover.V3_0_1.AnnualMeans.aust.005.BS.nc \n",
    "\n",
    "\n",
    "<img src=\"./images/panoply15.png\" width=100%>\n",
    "\n",
    "\n",
    "### Copy the \"Data URL\" from the OPeNDAP Dataset Access Form. \n",
    "\n",
    "<img src=\"./images/panoply16.png\" width=100%>\n",
    "\n",
    "### Back within Panoply, navigate to the `File` menu and select `Open Remote Dataset`. \n",
    "\n",
    "<img src=\"./images/panoply17.png\" width=100%>\n",
    "\n",
    "### Paste the OPeNDAP Data URL into the next window that appears. \n",
    "\n",
    "<img src=\"./images/panoply18.png\" width=100%>\n",
    "\n",
    "### Then you can proceed to view the file and data contents as with local files. \n",
    "\n",
    "<img src=\"./images/panoply19.png\" width=100%>"
   ]
  },
  {
   "cell_type": "markdown",
   "metadata": {},
   "source": [
    "<a id='part2b'></a>\n",
    "## Browsing THREDDS catalogues\n",
    "Panoply can also be used to browse a collection of files through a THREDDS catalogue URL. "
   ]
  },
  {
   "cell_type": "markdown",
   "metadata": {},
   "source": [
    "### Begin by navigating to the NCI THREDDS catalogue page for the data collection of interest and copying the page URL. \n",
    "In this example, we will use data from the eReefs collection again. \n",
    "\n",
    "<img src=\"./images/panoply20.png\" width=100%>\n",
    "\n",
    "### Within Panoply, navigate to the `File` menu and select `Open Remote Catalog`. \n",
    "\n",
    "<img src=\"./images/panoply21.png\" width=100%>\n",
    "\n",
    "### Paste the THREDDS catalogue URL into the next window that appears and select `Load`. \n",
    "\n",
    "<img src=\"./images/panoply22.png\" width=100%>\n",
    "\n",
    "\n",
    "### Now under the `Catalogs` tab, a list of all the folders and files within this data catalogue will be listed. \n",
    "To view a particular file, click on the `OPeNDAP` link that is listed under the file information (right-hand panel). This will add the file to the `Datasets` list and you can proceed with viewing the data as above.   \n",
    "\n",
    "<img src=\"./images/panoply23.png\" width=100%>"
   ]
  },
  {
   "cell_type": "markdown",
   "metadata": {},
   "source": [
    "<br>\n",
    "<br>\n",
    "\n",
    "--------------\n",
    "\n",
    "## Additional Panoply reference material: \n",
    "\n",
    "http://www.meteor.iastate.edu/classes/mt452/EdGCM/Documentation/EdGCM_Panoply.pdf\n",
    "\n",
    "http://www.geo.uni-bremen.de/Interdynamik/images/stories/pdf/visualizing_netcdf_panoply.pdf"
   ]
  }
 ],
 "metadata": {
  "anaconda-cloud": {},
  "kernelspec": {
   "display_name": "Python [conda env:mypy2]",
   "language": "python",
   "name": "conda-env-mypy2-py"
  },
  "language_info": {
   "codemirror_mode": {
    "name": "ipython",
    "version": 2
   },
   "file_extension": ".py",
   "mimetype": "text/x-python",
   "name": "python",
   "nbconvert_exporter": "python",
   "pygments_lexer": "ipython2",
   "version": "2.7.12"
  }
 },
 "nbformat": 4,
 "nbformat_minor": 0
}
